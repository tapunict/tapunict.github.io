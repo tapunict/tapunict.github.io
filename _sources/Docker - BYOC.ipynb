{
 "cells": [
  {
   "cell_type": "markdown",
   "metadata": {
    "slideshow": {
     "slide_type": "slide"
    }
   },
   "source": [
    "# Docker Build Your Own Container"
   ]
  },
  {
   "cell_type": "markdown",
   "metadata": {
    "slideshow": {
     "slide_type": "subslide"
    }
   },
   "source": [
    "![](https://i.ytimg.com/vi/FgFQA8sr8EM/maxresdefault.jpg)"
   ]
  },
  {
   "cell_type": "markdown",
   "metadata": {
    "slideshow": {
     "slide_type": "slide"
    }
   },
   "source": [
    "## Let's start with an example"
   ]
  },
  {
   "cell_type": "markdown",
   "metadata": {
    "slideshow": {
     "slide_type": "slide"
    }
   },
   "source": [
    "### Node Bulletin"
   ]
  },
  {
   "cell_type": "code",
   "execution_count": null,
   "metadata": {
    "slideshow": {
     "slide_type": "fragment"
    }
   },
   "outputs": [],
   "source": [
    "%%bash\n",
    "git clone https://github.com/dockersamples/node-bulletin-board\n",
    "cd node-bulletin-board/bulletin-board-app"
   ]
  },
  {
   "cell_type": "markdown",
   "metadata": {
    "slideshow": {
     "slide_type": "subslide"
    }
   },
   "source": [
    "### Let's see the Docker File"
   ]
  },
  {
   "cell_type": "markdown",
   "metadata": {
    "slideshow": {
     "slide_type": "fragment"
    }
   },
   "source": [
    "```dockerfile\n",
    "FROM node:current-slim\n",
    "\n",
    "WORKDIR /usr/src/app\n",
    "COPY package.json .\n",
    "RUN npm install\n",
    "\n",
    "EXPOSE 8080\n",
    "CMD [ \"npm\", \"start\" ]\n",
    "\n",
    "COPY . .\n",
    "\n",
    "```"
   ]
  },
  {
   "cell_type": "markdown",
   "metadata": {
    "slideshow": {
     "slide_type": "slide"
    }
   },
   "source": [
    "### Build Image"
   ]
  },
  {
   "cell_type": "code",
   "execution_count": 3,
   "metadata": {
    "slideshow": {
     "slide_type": "fragment"
    }
   },
   "outputs": [
    {
     "name": "stdout",
     "output_type": "stream",
     "text": [
      "Sending build context to Docker daemon  45.57kB\r",
      "\r\n",
      "Step 1/7 : FROM node:current-slim\n",
      "current-slim: Pulling from library/node\n",
      "6d28e14ab8c8: Pulling fs layer\n",
      "467f76cd7b76: Pulling fs layer\n",
      "5267769fc2ec: Pulling fs layer\n",
      "0001c8b9bd2f: Pulling fs layer\n",
      "2469aef99d27: Pulling fs layer\n",
      "0001c8b9bd2f: Waiting\n",
      "2469aef99d27: Waiting\n",
      "467f76cd7b76: Verifying Checksum\n",
      "6d28e14ab8c8: Verifying Checksum\n",
      "6d28e14ab8c8: Download complete\n",
      "0001c8b9bd2f: Verifying Checksum\n",
      "2469aef99d27: Verifying Checksum\n",
      "2469aef99d27: Download complete\n",
      "6d28e14ab8c8: Pull complete\n",
      "467f76cd7b76: Pull complete\n",
      "5267769fc2ec: Verifying Checksum\n",
      "5267769fc2ec: Download complete\n",
      "5267769fc2ec: Pull complete\n",
      "0001c8b9bd2f: Pull complete\n",
      "2469aef99d27: Pull complete\n",
      "Digest: sha256:1d54d3263d04bbf017ec705b7d4418a71b63d0696cabc0fcc77a1167e346dcb9\n",
      "Status: Downloaded newer image for node:current-slim\n",
      " ---> 26932a190e66\n",
      "Step 2/7 : WORKDIR /usr/src/app\n",
      " ---> Running in 2894363bc740\n",
      "Removing intermediate container 2894363bc740\n",
      " ---> a87873d56853\n",
      "Step 3/7 : COPY package.json .\n",
      " ---> 61330eb565b1\n",
      "Step 4/7 : RUN npm install\n",
      " ---> Running in c6082f3c0985\n",
      "\n",
      "> ejs@2.7.4 postinstall /usr/src/app/node_modules/ejs\n",
      "> node ./postinstall.js\n",
      "\n",
      "Thank you for installing \u001b[35mEJS\u001b[0m: built with the \u001b[32mJake\u001b[0m JavaScript build tool (\u001b[32mhttps://jakejs.com/\u001b[0m)\n",
      "\n",
      "\u001b[91mnpm notice created a lockfile as package-lock.json. You should commit this file.\n",
      "\u001b[0m\u001b[91mnpm WARN vue-event-bulletin@1.0.0 No repository field.\n",
      "npm WARN The package morgan is included as both a dev and production dependency.\n",
      "\u001b[0m\u001b[91m\n",
      "\u001b[0madded 90 packages from 168 contributors and audited 221 packages in 5.577s\n",
      "found 0 vulnerabilities\n",
      "\n",
      "Removing intermediate container c6082f3c0985\n",
      " ---> 7aaab7eabaab\n",
      "Step 5/7 : EXPOSE 8080\n",
      " ---> Running in b8ebdaa7090c\n",
      "Removing intermediate container b8ebdaa7090c\n",
      " ---> 107b471a8144\n",
      "Step 6/7 : CMD [ \"npm\", \"start\" ]\n",
      " ---> Running in 74afb99c6891\n",
      "Removing intermediate container 74afb99c6891\n",
      " ---> 7d44df2514d3\n",
      "Step 7/7 : COPY . .\n",
      " ---> b54f475b5ea8\n",
      "Successfully built b54f475b5ea8\n",
      "Successfully tagged bulletinboard:1.0\n"
     ]
    }
   ],
   "source": [
    "%%bash\n",
    "docker image build -t bulletinboard:1.0 ."
   ]
  },
  {
   "cell_type": "markdown",
   "metadata": {
    "slideshow": {
     "slide_type": "slide"
    }
   },
   "source": [
    "## Run your image as a container"
   ]
  },
  {
   "cell_type": "code",
   "execution_count": 4,
   "metadata": {
    "slideshow": {
     "slide_type": "fragment"
    }
   },
   "outputs": [
    {
     "name": "stdout",
     "output_type": "stream",
     "text": [
      "14e8c34595b28d0a194a3c8f5d53f1cd07051411d8110d88f81cf8e98a831362\n"
     ]
    }
   ],
   "source": [
    "%%bash\n",
    "docker container run --publish 8000:8080 --detach --name bb tapbulletinboard:1.0"
   ]
  },
  {
   "cell_type": "markdown",
   "metadata": {
    "slideshow": {
     "slide_type": "slide"
    }
   },
   "source": [
    "## Is running ?"
   ]
  },
  {
   "cell_type": "code",
   "execution_count": 1,
   "metadata": {
    "scrolled": true,
    "slideshow": {
     "slide_type": "fragment"
    }
   },
   "outputs": [
    {
     "name": "stdout",
     "output_type": "stream",
     "text": [
      "CONTAINER ID   IMAGE                  COMMAND                  CREATED         STATUS         PORTS                    NAMES\n",
      "db9ff52b012b   tapbulletinboard:1.0   \"docker-entrypoint.s…\"   3 minutes ago   Up 3 minutes   0.0.0.0:8000->8080/tcp   bb\n"
     ]
    }
   ],
   "source": [
    "%%bash\n",
    "docker ps"
   ]
  },
  {
   "cell_type": "markdown",
   "metadata": {
    "slideshow": {
     "slide_type": "slide"
    }
   },
   "source": [
    "## What we are running ?"
   ]
  },
  {
   "cell_type": "markdown",
   "metadata": {
    "slideshow": {
     "slide_type": "fragment"
    }
   },
   "source": [
    "\n",
    "[ClickToSee](http://localhost:8000)"
   ]
  },
  {
   "cell_type": "markdown",
   "metadata": {
    "slideshow": {
     "slide_type": "subslide"
    }
   },
   "source": [
    "### Delete it"
   ]
  },
  {
   "cell_type": "code",
   "execution_count": 6,
   "metadata": {
    "slideshow": {
     "slide_type": "fragment"
    }
   },
   "outputs": [
    {
     "name": "stdout",
     "output_type": "stream",
     "text": [
      "bb\n"
     ]
    }
   ],
   "source": [
    "%%bash\n",
    "docker container rm --force bb"
   ]
  },
  {
   "cell_type": "markdown",
   "metadata": {
    "slideshow": {
     "slide_type": "subslide"
    }
   },
   "source": [
    "## Try your self"
   ]
  },
  {
   "cell_type": "markdown",
   "metadata": {
    "slideshow": {
     "slide_type": "fragment"
    }
   },
   "source": [
    "Go to [Docker Sample](https://github.com/dockersamples/)\n",
    "\n",
    "Choose an example and try to run it"
   ]
  },
  {
   "cell_type": "markdown",
   "metadata": {
    "slideshow": {
     "slide_type": "slide"
    }
   },
   "source": [
    "## DockerFile"
   ]
  },
  {
   "cell_type": "markdown",
   "metadata": {
    "slideshow": {
     "slide_type": "subslide"
    }
   },
   "source": [
    "![](https://i.imgflip.com/50yk9z.jpg)\n",
    "\n",
    "[NicsMeme](https://imgflip.com/i/50yk9z) insipired by [Docker Anti Patterns](https://codefresh.io/containers/docker-anti-patterns/)\n"
   ]
  },
  {
   "cell_type": "markdown",
   "metadata": {
    "slideshow": {
     "slide_type": "subslide"
    }
   },
   "source": [
    "## Build syntax\n",
    "```bash\n",
    "$ docker build -f /path/to/a/Dockerfile\n",
    "```"
   ]
  },
  {
   "cell_type": "markdown",
   "metadata": {
    "slideshow": {
     "slide_type": "slide"
    }
   },
   "source": [
    "### Format\n",
    "```DockerFile\n",
    "# Comment\n",
    "INSTRUCTION arguments\n",
    "```\n",
    "\n",
    "*Convention: instructions are in UPPER case*"
   ]
  },
  {
   "cell_type": "markdown",
   "metadata": {
    "cell_style": "center",
    "slideshow": {
     "slide_type": "subslide"
    }
   },
   "source": [
    "### FROM\n",
    "- First instruction after comments/parser directives/arg\n",
    "- Indicates the Image source (download from the registry)\n",
    "- Can use ARG parameter \n",
    "- it's your baby!\n",
    "\n",
    "```DockerFile\n",
    "FROM [--platform=<platform>] <image>[:<tag>] [AS <name>]\n",
    "```\n",
    "\n",
    "https://docs.docker.com/engine/reference/builder/#from"
   ]
  },
  {
   "cell_type": "markdown",
   "metadata": {
    "cell_style": "center",
    "slideshow": {
     "slide_type": "subslide"
    }
   },
   "source": [
    "![](images/babyboss.png)"
   ]
  },
  {
   "cell_type": "markdown",
   "metadata": {
    "cell_style": "center",
    "slideshow": {
     "slide_type": "subslide"
    }
   },
   "source": [
    "### ARG\n",
    "\n",
    "Define enviroment variabile used in the Builder\n",
    "\n",
    "```DockerFile\n",
    "ARG <name>[=<default value>]\n",
    "```    \n",
    "\n",
    "Argument can be used in DockerFile FROM, RUN, ...\n",
    "also passed during the BUILD\n",
    "\n",
    "```bash\n",
    "$ docker build --build-arg user=what_user \n",
    "```\n",
    "\n",
    "ARG are referenced using standard ${VARIABLE} notation\n",
    "\n",
    "Be careful with ARG\n",
    "- scope starts from the line where is defined\n",
    "- ENV wins on ARG in RUN \n",
    "- There are a set of predefined ARG (like HTTP_PROXY)\n",
    "- Don't pass secret in ARG \n",
    "\n",
    "https://docs.docker.com/engine/reference/builder/#arg"
   ]
  },
  {
   "cell_type": "markdown",
   "metadata": {
    "cell_style": "center",
    "slideshow": {
     "slide_type": "subslide"
    }
   },
   "source": [
    "![](images/arguments-penauts.png)"
   ]
  },
  {
   "cell_type": "markdown",
   "metadata": {
    "cell_style": "center",
    "slideshow": {
     "slide_type": "subslide"
    }
   },
   "source": [
    "## ENV\n",
    "\n",
    "Define enviroment variabile that _persist_ in the container\n",
    "\n",
    "```DockerFile\n",
    "ENV <key> <value>\n",
    "ENV <key>=<value> ...\n",
    "```    \n",
    "\n",
    "Enviroment variable can be also passed while starting \n",
    "\n",
    "```bash\n",
    "$ docker run -e \"deep=purple\"\n",
    "```\n",
    "\n",
    "https://docs.docker.com/engine/reference/builder/#env"
   ]
  },
  {
   "cell_type": "markdown",
   "metadata": {
    "cell_style": "center",
    "slideshow": {
     "slide_type": "subslide"
    }
   },
   "source": [
    "![](images/wikipedia-env-variable.png)"
   ]
  },
  {
   "cell_type": "markdown",
   "metadata": {
    "cell_style": "center",
    "slideshow": {
     "slide_type": "subslide"
    }
   },
   "source": [
    "## RUN (shell mode)\n",
    "\n",
    "Execute commands in the _layer_ on top of the current image\n",
    "\n",
    " (shell form, the command is run in a shell, which by default is /bin/sh -c on Linux or cmd /S /C on Windows)\n",
    "\n",
    "```DockerFile\n",
    "RUN <command>\n",
    "```    \n",
    "\n",
    "The default shell for the shell form can be changed using the SHELL command.\n",
    "\n",
    "In the shell form you can use a \\ (backslash) to continue a single RUN instruction onto the next line. For example, consider these two lines:\n",
    "\n",
    "```DockerFile\n",
    "RUN /bin/bash -c 'source $HOME/.bashrc; \\\n",
    "echo $HOME'\n",
    "``` \n",
    "\n",
    "https://docs.docker.com/engine/reference/builder/#env"
   ]
  },
  {
   "cell_type": "markdown",
   "metadata": {
    "cell_style": "center",
    "slideshow": {
     "slide_type": "subslide"
    }
   },
   "source": [
    "![](images/docker-layers.png)"
   ]
  },
  {
   "cell_type": "markdown",
   "metadata": {
    "cell_style": "center",
    "slideshow": {
     "slide_type": "subslide"
    }
   },
   "source": [
    "## RUN (exec mode)\n",
    "\n",
    "```DockerFile\n",
    "RUN [\"executable\", \"param1\", \"param2\"] (exec form)\n",
    "```    \n",
    "\n",
    "Unlike the shell form, the exec form does not invoke a command shell. This means that normal shell processing does not happen. \n",
    "\n",
    "> To use a different shell, other than ‘/bin/sh’, use the exec form passing in the desired shell. For example, \n",
    "\n",
    "```DockerFile\n",
    "RUN [\"/bin/bash\", \"-c\", \"echo hello\"]\n",
    "```\n",
    "\n",
    "For example, `RUN [ \"echo\", \"$HOME\" ]` will not do variable substitution on $HOME. If you want shell processing then either use the shell form or execute a shell directly, for example:\n",
    "\n",
    "```DockerFile\n",
    "RUN [ \"sh\", \"-c\", \"echo $HOME\" ]. \n",
    "```\n",
    "\n",
    "> The exec form is parsed as a JSON array, which means that you must use double-quotes (“) around words not single-quotes (‘).\n",
    "\n",
    "https://docs.docker.com/engine/reference/builder/#run"
   ]
  },
  {
   "cell_type": "markdown",
   "metadata": {
    "cell_style": "center",
    "slideshow": {
     "slide_type": "subslide"
    }
   },
   "source": [
    "![](images/docker-images.png)"
   ]
  },
  {
   "cell_type": "markdown",
   "metadata": {
    "cell_style": "center",
    "slideshow": {
     "slide_type": "subslide"
    }
   },
   "source": [
    "## CMD (exec form)\n",
    "\n",
    "The main purpose of a CMD is to provide defaults for an executing container. These defaults can include an executable, or they can omit the executable, in which case you must specify an ENTRYPOINT instruction as well.\n",
    "\n",
    "Exec form, this is the preferred form\n",
    "\n",
    "```DockerFile\n",
    "CMD [\"executable\",\"param1\",\"param2\"] \n",
    "```    \n",
    "\n",
    "Like RUN exec form do not invoke a shell, so in order to force the variabile substituion done by shell use\n",
    "\n",
    "```DockerFile\n",
    "CMD [ \"sh\", \"-c\", \"echo $HOME\" ]\n",
    "```\n",
    "\n",
    "https://docs.docker.com/engine/reference/builder/#env"
   ]
  },
  {
   "cell_type": "markdown",
   "metadata": {
    "cell_style": "center",
    "slideshow": {
     "slide_type": "subslide"
    }
   },
   "source": [
    "## CMD (shell form)\n",
    "\n",
    "The main purpose of a CMD is to provide defaults for an executing container. These defaults can include an executable, or they can omit the executable, in which case you must specify an ENTRYPOINT instruction as well.\n",
    "\n",
    "\n",
    "```DockerFile\n",
    "CMD command param1 param2\n",
    "```    \n",
    "\n",
    "If you want to run your <command> without a shell then you must express the command as a JSON array and give the full path to the executable. This array form is the preferred format of CMD. Any additional parameters must be individually expressed as strings in the array:\n",
    " \n",
    "```DockerFile\n",
    "FROM ubuntu\n",
    "CMD echo \"This is a test.\" | wc -l\n",
    "```\n",
    "\n",
    "https://docs.docker.com/engine/reference/builder/#cmd"
   ]
  },
  {
   "cell_type": "markdown",
   "metadata": {
    "slideshow": {
     "slide_type": "subslide"
    }
   },
   "source": [
    "![](images/gandalf-docker-cmd.png)"
   ]
  },
  {
   "cell_type": "markdown",
   "metadata": {
    "slideshow": {
     "slide_type": "subslide"
    }
   },
   "source": [
    "### Confused ?\n",
    "\n",
    "- RUN actually runs a command and commits the result\n",
    "- CMD does not execute anything at build time, but specifies the intended command for the image."
   ]
  },
  {
   "cell_type": "markdown",
   "metadata": {
    "cell_style": "center",
    "slideshow": {
     "slide_type": "subslide"
    }
   },
   "source": [
    "### ENTRYPOINT (exec form)\n",
    "\n",
    "An `ENTRYPOINT` allows you to configure a container that will run as an executable.\n",
    "\n",
    "```DockerFile\n",
    "ENTRYPOINT [\"executable\", \"param1\", \"param2\"]\n",
    "```    \n",
    "\n",
    "```bash\n",
    "$ docker run -i -t --rm -p 80:80 nginx\n",
    "```\n",
    "\n",
    "https://docs.docker.com/engine/reference/builder/#entrypoint"
   ]
  },
  {
   "cell_type": "markdown",
   "metadata": {
    "cell_style": "center",
    "slideshow": {
     "slide_type": "subslide"
    }
   },
   "source": [
    "## EXPOSE\n",
    "\n",
    "Define enviroment variabile that _persist_ in the container\n",
    "\n",
    "```DockerFile\n",
    "EXPOSE <port> [<port>/<protocol>...]\n",
    "```    \n",
    "\n",
    "The EXPOSE instruction does not actually publish the port. \n",
    "\n",
    "It functions as a type of documentation between the person who builds the image and the person who runs the container, about which ports are intended to be published. \n",
    "\n",
    "To actually publish the port when running the container, use the -p flag on docker run to publish and map one or more ports, or the -P flag to publish all exposed ports and map them to high-order ports.\n",
    "\n",
    "```bash\n",
    "$ docker run -p 80:80/tcp -p 80:80/udp \n",
    "```\n",
    "\n",
    "https://docs.docker.com/engine/reference/builder/#expose"
   ]
  },
  {
   "cell_type": "markdown",
   "metadata": {
    "cell_style": "center",
    "slideshow": {
     "slide_type": "subslide"
    }
   },
   "source": [
    "## ADD\n",
    "\n",
    "The ADD instruction copies new files, directories or remote file URLs from <src> and adds them to the filesystem of the image at the path <dest>.\n",
    "    \n",
    "```DockerFile\n",
    "ADD [--chown=<user>:<group>] <src>... <dest>\n",
    "ADD [--chown=<user>:<group>] [\"<src>\",... \"<dest>\"] (this form is required for paths containing whitespace)\n",
    "```    \n",
    "\n",
    "The <dest> is an absolute path, or a path relative to WORKDIR, into which the source will be copied inside the destination container.\n",
    "    \n",
    "```DockerFile\n",
    "ADD test relativeDir/          # adds \"test\" to `WORKDIR`/relativeDir/\n",
    "ADD test /absoluteDir/         # adds \"test\" to /absoluteDir/\n",
    "```\n",
    "\n",
    "https://docs.docker.com/engine/reference/builder/#add"
   ]
  },
  {
   "cell_type": "markdown",
   "metadata": {
    "cell_style": "center",
    "slideshow": {
     "slide_type": "subslide"
    }
   },
   "source": [
    "## COPY\n",
    "\n",
    "The COPY instruction copies new files or directories from <src> and adds them to the filesystem of the container at the path <dest>.\n",
    "    \n",
    "```DockerFile\n",
    "COPY [--chown=<user>:<group>] <src>... <dest>\n",
    "COPY [--chown=<user>:<group>] [\"<src>\",... \"<dest>\"] (this form is required for paths containing whitespace)\n",
    "```    "
   ]
  },
  {
   "cell_type": "markdown",
   "metadata": {
    "slideshow": {
     "slide_type": "subslide"
    }
   },
   "source": [
    "![](images/docker-copy-add-meme.png)"
   ]
  },
  {
   "cell_type": "markdown",
   "metadata": {
    "cell_style": "center",
    "slideshow": {
     "slide_type": "subslide"
    }
   },
   "source": [
    "## VOLUME\n",
    "\n",
    "The VOLUME instruction creates a mount point with the specified name and marks it as holding externally mounted volumes from native host or other containers.r\n",
    "\n",
    "```DockerFile\n",
    "VOLUME [\"/data\"]\n",
    "```    \n",
    "\n",
    "The docker run command initializes the newly created volume with any data that exists at the specified location within the base image. For example, consider the following Dockerfile snippet:\n",
    "\n",
    "```DockerFile\n",
    "FROM ubuntu\n",
    "RUN mkdir /myvol\n",
    "RUN echo \"hello world\" > /myvol/greeting\n",
    "VOLUME /myvol```\n",
    "\n",
    "This Dockerfile results in an image that causes docker run to create a new mount point at /myvol and copy the greeting file into the newly created volume.\n",
    "\n",
    "https://docs.docker.com/engine/reference/builder/#env"
   ]
  },
  {
   "cell_type": "markdown",
   "metadata": {
    "cell_style": "center",
    "slideshow": {
     "slide_type": "subslide"
    }
   },
   "source": [
    "## WORKDIR\n",
    "\n",
    "Define enviroment variabile that _persist_ in the container\n",
    "\n",
    "```DockerFile\n",
    "WORKDIR /path/to/workdir\n",
    "```    \n",
    "\n",
    "The WORKDIR instruction sets the working directory for any RUN, CMD, ENTRYPOINT, COPY and ADD instructions that follow it in the Dockerfile. If the WORKDIR doesn’t exist, it will be created even if it’s not used in any subsequent Dockerfile instruction.\n",
    "\n",
    "```bash\n",
    "WORKDIR /a\n",
    "WORKDIR b\n",
    "WORKDIR c\n",
    "RUN pwd\n",
    "```\n",
    "\n",
    "The output of the final pwd command in this Dockerfile would be /a/b/c.\n",
    "\n",
    "\n",
    "\n",
    "https://docs.docker.com/engine/reference/builder/#env"
   ]
  },
  {
   "cell_type": "markdown",
   "metadata": {
    "slideshow": {
     "slide_type": "slide"
    }
   },
   "source": [
    "### Best Practices"
   ]
  },
  {
   "cell_type": "markdown",
   "metadata": {
    "slideshow": {
     "slide_type": "fragment"
    }
   },
   "source": [
    "https://docs.docker.com/develop/develop-images/dockerfile_best-practices/"
   ]
  },
  {
   "cell_type": "markdown",
   "metadata": {
    "slideshow": {
     "slide_type": "subslide"
    }
   },
   "source": [
    "### Cheat Sheet\n",
    "- https://kapeli.com/cheat_sheets/Dockerfile.docset/Contents/Resources/Documents/index\n",
    "- https://github.com/wsargent/docker-cheat-sheet\n",
    "- https://www.docker.com/sites/default/files/d8/2019-09/docker-cheat-sheet.pdf"
   ]
  },
  {
   "cell_type": "markdown",
   "metadata": {
    "slideshow": {
     "slide_type": "subslide"
    }
   },
   "source": [
    "### Docker Commit"
   ]
  },
  {
   "cell_type": "markdown",
   "metadata": {
    "cell_style": "center",
    "slideshow": {
     "slide_type": "subslide"
    }
   },
   "source": [
    "[To commit or not to commit?](https://medium.com/@lizrice/to-commit-or-not-to-commit-5ab72f9a466e)\n",
    "\n",
    "**Don’t do it.**\n",
    "\n",
    "No, really, I know it’s tempting, but if you’re ever going to use this container image again, don’t use commit. There are significant downsides to the commit approach:\n",
    "\n",
    "- You can’t reproduce the image\n",
    "- You can’t change the base image\n",
    "\n",
    "Creating a Dockerfile might feel a bit like work, but if you might want this image again, it’s the approach you need to take.\n"
   ]
  }
 ],
 "metadata": {
  "celltoolbar": "Slideshow",
  "kernelspec": {
   "display_name": "Python 3 (ipykernel)",
   "language": "python",
   "name": "python3"
  },
  "language_info": {
   "codemirror_mode": {
    "name": "ipython",
    "version": 3
   },
   "file_extension": ".py",
   "mimetype": "text/x-python",
   "name": "python",
   "nbconvert_exporter": "python",
   "pygments_lexer": "ipython3",
   "version": "3.10.2"
  },
  "rise": {
   "autolaunch": true,
   "enable_chalkboard": "true",
   "footer": "<div class=\"tap-footer\"> *** Technologies for advanced programming (TAP) - 2022 ***</div>",
   "header": "<div class=\"tap-header\"></div>",
   "scroll": true,
   "theme": "white"
  }
 },
 "nbformat": 4,
 "nbformat_minor": 4
}
