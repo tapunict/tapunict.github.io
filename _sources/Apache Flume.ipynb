{
 "cells": [
  {
   "cell_type": "markdown",
   "metadata": {
    "slideshow": {
     "slide_type": "slide"
    }
   },
   "source": [
    "# Apache Flume\n",
    "![](https://flume.apache.org/_static/flume-logo.png)\n"
   ]
  },
  {
   "cell_type": "markdown",
   "metadata": {
    "slideshow": {
     "slide_type": "slide"
    }
   },
   "source": [
    "Apache Flume is a "
   ]
  },
  {
   "cell_type": "markdown",
   "metadata": {
    "slideshow": {
     "slide_type": "fragment"
    }
   },
   "source": [
    "- *distributed*: multiple agents manage multiple sources and sinks"
   ]
  },
  {
   "cell_type": "markdown",
   "metadata": {
    "slideshow": {
     "slide_type": "fragment"
    }
   },
   "source": [
    "- reliable: events are staged in the channel and delivered using a transactional approach"
   ]
  },
  {
   "cell_type": "markdown",
   "metadata": {
    "slideshow": {
     "slide_type": "fragment"
    }
   },
   "source": [
    "- available: open source, mature"
   ]
  },
  {
   "cell_type": "markdown",
   "metadata": {
    "slideshow": {
     "slide_type": "fragment"
    }
   },
   "source": [
    "system"
   ]
  },
  {
   "cell_type": "markdown",
   "metadata": {
    "slideshow": {
     "slide_type": "slide"
    }
   },
   "source": [
    "for efficiently:"
   ]
  },
  {
   "cell_type": "markdown",
   "metadata": {
    "slideshow": {
     "slide_type": "fragment"
    }
   },
   "source": [
    "- collecting: make them avalaible"
   ]
  },
  {
   "cell_type": "markdown",
   "metadata": {
    "slideshow": {
     "slide_type": "fragment"
    }
   },
   "source": [
    "- aggregating: merge together from different sources"
   ]
  },
  {
   "cell_type": "markdown",
   "metadata": {
    "slideshow": {
     "slide_type": "fragment"
    }
   },
   "source": [
    "- moving: transfer from one place to another"
   ]
  },
  {
   "cell_type": "markdown",
   "metadata": {
    "slideshow": {
     "slide_type": "slide"
    }
   },
   "source": [
    "large amounts of log data: i.e. able to manage big data "
   ]
  },
  {
   "cell_type": "markdown",
   "metadata": {
    "slideshow": {
     "slide_type": "fragment"
    }
   },
   "source": [
    "from many different sources: refered both type of data and different place"
   ]
  },
  {
   "cell_type": "markdown",
   "metadata": {
    "slideshow": {
     "slide_type": "fragment"
    }
   },
   "source": [
    "to a centralized data store"
   ]
  },
  {
   "cell_type": "markdown",
   "metadata": {
    "slideshow": {
     "slide_type": "slide"
    }
   },
   "source": [
    "The use of Apache Flume is not only restricted to log data aggregation. \n",
    "\n",
    "Since data sources are customizable, Flume can be used to transport massive quantities of event data including but not limited to:\n",
    "- network traffic data\n",
    "- social-media-generated data\n",
    "- email messages \n",
    "\n",
    "and pretty much any data source possible"
   ]
  },
  {
   "cell_type": "markdown",
   "metadata": {
    "slideshow": {
     "slide_type": "slide"
    },
    "toc-hr-collapsed": true
   },
   "source": [
    " # Data Flow"
   ]
  },
  {
   "cell_type": "markdown",
   "metadata": {
    "slideshow": {
     "slide_type": "subslide"
    }
   },
   "source": [
    "![](images/flume-dataflow.png)"
   ]
  },
  {
   "cell_type": "markdown",
   "metadata": {
    "slideshow": {
     "slide_type": "subslide"
    },
    "toc-hr-collapsed": true,
    "toc-nb-collapsed": true
   },
   "source": [
    "# Event"
   ]
  },
  {
   "cell_type": "markdown",
   "metadata": {
    "cell_style": "split",
    "slideshow": {
     "slide_type": "subslide"
    }
   },
   "source": [
    "A Flume event is defined as a unit of data flow having a byte payload and an optional set of string attributes"
   ]
  },
  {
   "cell_type": "markdown",
   "metadata": {
    "cell_style": "split",
    "slideshow": {
     "slide_type": "fragment"
    }
   },
   "source": [
    "![](images/flume-event.png)"
   ]
  },
  {
   "cell_type": "markdown",
   "metadata": {
    "slideshow": {
     "slide_type": "subslide"
    },
    "toc-hr-collapsed": true,
    "toc-nb-collapsed": true
   },
   "source": [
    "# Source"
   ]
  },
  {
   "cell_type": "markdown",
   "metadata": {
    "cell_style": "split",
    "slideshow": {
     "slide_type": "subslide"
    }
   },
   "source": [
    "A Flume source consumes events delivered to it by an external source like a web server. \n",
    "\n",
    "The external source sends events to Flume in a format that is recognized by the target Flume source. \n",
    "\n",
    "Sources can be pollable or event driven"
   ]
  },
  {
   "cell_type": "markdown",
   "metadata": {
    "cell_style": "split",
    "slideshow": {
     "slide_type": "fragment"
    }
   },
   "source": [
    "![](images/flume-source.png)"
   ]
  },
  {
   "cell_type": "markdown",
   "metadata": {
    "slideshow": {
     "slide_type": "subslide"
    }
   },
   "source": [
    "# Channel"
   ]
  },
  {
   "cell_type": "markdown",
   "metadata": {
    "cell_style": "split",
    "slideshow": {
     "slide_type": "subslide"
    }
   },
   "source": [
    "When a Flume source receives an event, it stores it into one or more channels.\n",
    "\n",
    "The channel is a passive store that keeps the event until it’s consumed by a Flume sink\n",
    "\n",
    "A channel is a conduit for events between a source and a sink. Channels also dictate the durability of event delivery between a source and a sink. "
   ]
  },
  {
   "cell_type": "markdown",
   "metadata": {
    "cell_style": "split",
    "slideshow": {
     "slide_type": "fragment"
    }
   },
   "source": [
    "![](images/658px-Conduit_block_placement.png)"
   ]
  },
  {
   "cell_type": "markdown",
   "metadata": {
    "slideshow": {
     "slide_type": "subslide"
    }
   },
   "source": [
    "# Sink"
   ]
  },
  {
   "cell_type": "markdown",
   "metadata": {
    "cell_style": "split",
    "slideshow": {
     "slide_type": "subslide"
    }
   },
   "source": [
    "A sink is the counterpart to the source in that it is a destination for data in Flume. \n",
    "\n",
    "Some of the builtin sinks that are included with Flume are \n",
    "\n",
    "- the Hadoop Distributed File System sink which writes events to HDFS in various ways\n",
    "\n",
    "- the logger sink which simply logs all events received\n",
    "\n",
    "- the null sink which is Flume's version of /dev/null"
   ]
  },
  {
   "cell_type": "markdown",
   "metadata": {
    "cell_style": "split",
    "slideshow": {
     "slide_type": "fragment"
    }
   },
   "source": [
    "![](images/nemo.gif)"
   ]
  },
  {
   "cell_type": "markdown",
   "metadata": {
    "slideshow": {
     "slide_type": "subslide"
    }
   },
   "source": [
    "# Agent"
   ]
  },
  {
   "cell_type": "markdown",
   "metadata": {
    "cell_style": "split",
    "slideshow": {
     "slide_type": "subslide"
    }
   },
   "source": [
    "A Flume agent puts together the components to be connected:\n",
    "- source\n",
    "- channel \n",
    "- sink\n",
    "\n",
    "components are named and configured for each channel\n",
    "\n",
    "Multiple agent can be run at the same time in the same process\n"
   ]
  },
  {
   "cell_type": "markdown",
   "metadata": {
    "cell_style": "split",
    "slideshow": {
     "slide_type": "fragment"
    }
   },
   "source": [
    "![](images/flume-agent.png)"
   ]
  },
  {
   "cell_type": "markdown",
   "metadata": {
    "slideshow": {
     "slide_type": "slide"
    }
   },
   "source": [
    "## Configuration "
   ]
  },
  {
   "cell_type": "markdown",
   "metadata": {
    "slideshow": {
     "slide_type": "subslide"
    }
   },
   "source": [
    "```properties\n",
    "# example.conf: A single-node Flume configuration\n",
    "\n",
    "# Name the components on this agent\n",
    "a1.sources = r1\n",
    "a1.sinks = k1\n",
    "a1.channels = c1\n",
    "\n",
    "# Describe/configure the source\n",
    "a1.sources.r1.type = netcat\n",
    "a1.sources.r1.bind = localhost\n",
    "a1.sources.r1.port = 44444\n",
    "\n",
    "# Describe the sink\n",
    "a1.sinks.k1.type = logger\n",
    "\n",
    "# Use a channel which buffers events in memory\n",
    "a1.channels.c1.type = memory\n",
    "a1.channels.c1.capacity = 1000\n",
    "a1.channels.c1.transactionCapacity = 100\n",
    "\n",
    "# Bind the source and sink to the channel\n",
    "a1.sources.r1.channels = c1\n",
    "a1.sinks.k1.channel = c1\n",
    "```"
   ]
  },
  {
   "cell_type": "markdown",
   "metadata": {
    "slideshow": {
     "slide_type": "slide"
    }
   },
   "source": [
    "# Docker "
   ]
  },
  {
   "cell_type": "markdown",
   "metadata": {
    "slideshow": {
     "slide_type": "subslide"
    }
   },
   "source": [
    "# Dockerfile"
   ]
  },
  {
   "cell_type": "markdown",
   "metadata": {
    "slideshow": {
     "slide_type": "fragment"
    }
   },
   "source": [
    "```DockerFile\n",
    "FROM openjdk:8-jre-alpine\n",
    "MAINTAINER Salvo Nicotra\n",
    "ENV PATH /opt/flume/bin:$PATH\n",
    "\n",
    "RUN apk update \\\n",
    "    && apk add --no-cache wget bash \\\n",
    "    && mkdir -p /opt/flume && wget -qO- http://archive.apache.org/dist/flume/1.9.0/apache-flume-1.9.0-bin.tar.gz | tar zxvf - -C /opt/flume --strip 1\n",
    "\n",
    "RUN mkdir /var/log/netcat\n",
    "ADD start-flume.sh /opt/flume/bin/start-flume\n",
    "# Copy All conf here\n",
    "ADD conf/* /opt/flume/conf/\n",
    "# Add compiled lib\n",
    "ADD lib/* /opt/flume/lib/\n",
    "EXPOSE 44444\n",
    "\n",
    "ENTRYPOINT [ \"start-flume\" ]\n",
    "```"
   ]
  },
  {
   "cell_type": "markdown",
   "metadata": {
    "slideshow": {
     "slide_type": "subslide"
    }
   },
   "source": [
    "# Wrapper"
   ]
  },
  {
   "cell_type": "markdown",
   "metadata": {
    "slideshow": {
     "slide_type": "fragment"
    }
   },
   "source": [
    "```bash\n",
    "#!/bin/bash\n",
    "set -v\n",
    "FLUME_CONF_DIR=/opt/flume/conf\n",
    "FLUME_AGENT_NAME=a1 \n",
    "\n",
    "[[ -d \"${FLUME_CONF_DIR}\"  ]]  || { echo \"Flume config dir not mounted in /opt/flume-config\";  exit 1; }\n",
    "[[ -z \"${FLUME_AGENT_NAME}\" ]] && { echo \"FLUME_AGENT_NAME required\"; exit 1; }\n",
    "\n",
    "echo \"Starting flume agent : ${FLUME_AGENT_NAME}\"\n",
    "\n",
    "COMMAND=\"flume-ng agent \\\n",
    "  -c ${FLUME_CONF_DIR} \\\n",
    "  -f ${FLUME_CONF_DIR}/${FLUME_CONF_FILE}\\\n",
    "  -n ${FLUME_AGENT_NAME} \\\n",
    "  -Dflume.root.logger=INFO,console\n",
    "  -Dorg.apache.flume.log.printconfig=true \n",
    "  -Dorg.apache.flume.log.rawdata=true\n",
    "  \"\n",
    "\n",
    "${COMMAND}\n",
    "```"
   ]
  },
  {
   "cell_type": "markdown",
   "metadata": {
    "slideshow": {
     "slide_type": "slide"
    }
   },
   "source": [
    "# Flume Hello World"
   ]
  },
  {
   "cell_type": "raw",
   "metadata": {},
   "source": []
  },
  {
   "cell_type": "markdown",
   "metadata": {
    "slideshow": {
     "slide_type": "subslide"
    }
   },
   "source": [
    "```bash\n",
    "#!/usr/bin/env bash\n",
    "# cd tap/bin\n",
    "# Only once\n",
    "docker network create --subnet=10.0.100.1/24 tap\n",
    "# Build\n",
    "docker build ../flume/ --tag tap:flume\n",
    "# Run\n",
    "docker run --network tap --ip 10.0.100.10 -p 44444:44444  -e FLUME_CONF_FILE=netcatExample.conf tap:flume\n",
    "```"
   ]
  },
  {
   "cell_type": "markdown",
   "metadata": {
    "slideshow": {
     "slide_type": "slide"
    }
   },
   "source": [
    "# Data Serialization"
   ]
  },
  {
   "cell_type": "markdown",
   "metadata": {
    "slideshow": {
     "slide_type": "subslide"
    }
   },
   "source": [
    "In computing, serialization (or serialisation) is the process of translating data structures or object state into a format that can be stored (for example, in a file or memory buffer) or transmitted (for example, across a network connection link) and reconstructed later (possibly in a different computer environment).[1] "
   ]
  },
  {
   "cell_type": "markdown",
   "metadata": {
    "slideshow": {
     "slide_type": "subslide"
    }
   },
   "source": [
    "When the resulting series of bits is reread according to the serialization format, it can be used to create a semantically identical clone of the original object. For many complex objects, such as those that make extensive use of references, this process is not straightforward. Serialization of object-oriented objects does not include any of their associated methods with which they were previously linked."
   ]
  },
  {
   "cell_type": "markdown",
   "metadata": {
    "slideshow": {
     "slide_type": "subslide"
    }
   },
   "source": [
    "This process of serializing an object is also called marshalling an object in some situations.[1][2] The opposite operation, extracting a data structure from a series of bytes, is deserialization (also called unmarshalling).\n",
    "\n",
    "https://en.wikipedia.org/wiki/Serialization"
   ]
  },
  {
   "cell_type": "markdown",
   "metadata": {
    "slideshow": {
     "slide_type": "subslide"
    }
   },
   "source": [
    "# Types of Serialization"
   ]
  },
  {
   "cell_type": "markdown",
   "metadata": {
    "slideshow": {
     "slide_type": "subslide"
    }
   },
   "source": [
    "## Popular"
   ]
  },
  {
   "cell_type": "markdown",
   "metadata": {
    "slideshow": {
     "slide_type": "fragment"
    }
   },
   "source": [
    "- CSV"
   ]
  },
  {
   "cell_type": "markdown",
   "metadata": {
    "slideshow": {
     "slide_type": "fragment"
    }
   },
   "source": [
    "- XML"
   ]
  },
  {
   "cell_type": "markdown",
   "metadata": {
    "slideshow": {
     "slide_type": "fragment"
    }
   },
   "source": [
    "- JSON"
   ]
  },
  {
   "cell_type": "markdown",
   "metadata": {
    "slideshow": {
     "slide_type": "fragment"
    }
   },
   "source": [
    "- YAML"
   ]
  },
  {
   "cell_type": "markdown",
   "metadata": {
    "slideshow": {
     "slide_type": "subslide"
    }
   },
   "source": [
    "## Binary"
   ]
  },
  {
   "cell_type": "markdown",
   "metadata": {
    "slideshow": {
     "slide_type": "fragment"
    }
   },
   "source": [
    "- Protocol Buffer"
   ]
  },
  {
   "cell_type": "markdown",
   "metadata": {
    "slideshow": {
     "slide_type": "fragment"
    }
   },
   "source": [
    "- BSON"
   ]
  },
  {
   "cell_type": "markdown",
   "metadata": {
    "slideshow": {
     "slide_type": "fragment"
    }
   },
   "source": [
    "- MessagePack "
   ]
  },
  {
   "cell_type": "markdown",
   "metadata": {
    "slideshow": {
     "slide_type": "fragment"
    }
   },
   "source": [
    "- Thrift"
   ]
  },
  {
   "cell_type": "markdown",
   "metadata": {
    "slideshow": {
     "slide_type": "subslide"
    }
   },
   "source": [
    "## Big Data"
   ]
  },
  {
   "cell_type": "markdown",
   "metadata": {
    "slideshow": {
     "slide_type": "fragment"
    }
   },
   "source": [
    "- AVRO"
   ]
  },
  {
   "cell_type": "markdown",
   "metadata": {
    "slideshow": {
     "slide_type": "fragment"
    }
   },
   "source": [
    "- Parquet"
   ]
  },
  {
   "cell_type": "markdown",
   "metadata": {
    "slideshow": {
     "slide_type": "slide"
    }
   },
   "source": [
    "https://luminousmen.com/post/big-data-file-formats \n",
    "\n",
    "https://www.xenonstack.com/blog/data-serialization-hadoop/ \n",
    "\n",
    "https://arrow.apache.org/blog/2019/10/13/introducing-arrow-flight/"
   ]
  },
  {
   "cell_type": "markdown",
   "metadata": {
    "slideshow": {
     "slide_type": "subslide"
    }
   },
   "source": [
    "# Avro"
   ]
  },
  {
   "cell_type": "markdown",
   "metadata": {
    "cell_style": "split",
    "slideshow": {
     "slide_type": "subslide"
    }
   },
   "source": [
    "Apache Avro is a remote procedure call and data serialization framework developed within Apache’s Hadoop project. \n",
    "\n",
    "It uses JSON for defining data types and protocols, and serializes data in a compact binary format.\n",
    "\n",
    "Since it’s a row based format, it’s better to use when all fields needs to be accessed\n",
    "Files support block compression and are splittable\n",
    "Suitable for write intensive operation"
   ]
  },
  {
   "cell_type": "markdown",
   "metadata": {
    "cell_style": "split",
    "slideshow": {
     "slide_type": "fragment"
    }
   },
   "source": [
    "![](https://avro.apache.org/images/avro-logo.png)"
   ]
  },
  {
   "cell_type": "markdown",
   "metadata": {
    "slideshow": {
     "slide_type": "slide"
    }
   },
   "source": [
    "# Flume Source"
   ]
  },
  {
   "cell_type": "markdown",
   "metadata": {
    "slideshow": {
     "slide_type": "subslide"
    }
   },
   "source": [
    "# Avro"
   ]
  },
  {
   "cell_type": "markdown",
   "metadata": {
    "slideshow": {
     "slide_type": "subslide"
    }
   },
   "source": [
    "Listens on Avro port and receives events from external Avro client streams. \n",
    "\n",
    "When paired with the built-in Avro Sink on another (previous hop) Flume agent, it can create tiered collection topologies. \n",
    "\n",
    "```properties\n",
    "a1.sources = r1\n",
    "a1.channels = c1\n",
    "a1.sources.r1.type = avro\n",
    "a1.sources.r1.channels = c1\n",
    "a1.sources.r1.bind = 0.0.0.0\n",
    "a1.sources.r1.port = 4141\n",
    "```"
   ]
  },
  {
   "cell_type": "markdown",
   "metadata": {
    "slideshow": {
     "slide_type": "slide"
    }
   },
   "source": [
    "# Exec"
   ]
  },
  {
   "cell_type": "markdown",
   "metadata": {
    "slideshow": {
     "slide_type": "subslide"
    }
   },
   "source": [
    "Exec source runs a given Unix command on start-up and expects that process to continuously produce data on standard out (stderr is simply discarded, unless property logStdErr is set to true). If the process exits for any reason, the source also exits and will produce no further data. This means configurations such as cat [named pipe] or tail -F [file] are going to produce the desired results where as date will probably not - the former two commands produce streams of data where as the latter produces a single event and exits."
   ]
  },
  {
   "cell_type": "markdown",
   "metadata": {
    "slideshow": {
     "slide_type": "subslide"
    }
   },
   "source": [
    "```properties\n",
    "a1.sources = r1\n",
    "a1.channels = c1\n",
    "a1.sources.r1.type = exec\n",
    "a1.sources.r1.command = tail -F /var/log/secure\n",
    "a1.sources.r1.channels = c1\n",
    "```"
   ]
  },
  {
   "cell_type": "markdown",
   "metadata": {
    "slideshow": {
     "slide_type": "subslide"
    }
   },
   "source": [
    "# Twitter Firehose"
   ]
  },
  {
   "cell_type": "markdown",
   "metadata": {
    "cell_style": "center",
    "slideshow": {
     "slide_type": "subslide"
    }
   },
   "source": [
    "Experimental source that connects via Streaming API to the 1% sample twitter firehose, continously downloads tweets, converts them to Avro format and sends Avro events to a downstream Flume sink. \n",
    "\n",
    "Requires the consumer and access tokens and secrets of a Twitter developer account. Required properties are in bold."
   ]
  },
  {
   "cell_type": "markdown",
   "metadata": {
    "slideshow": {
     "slide_type": "subslide"
    }
   },
   "source": [
    "# Other Sources"
   ]
  },
  {
   "cell_type": "markdown",
   "metadata": {
    "slideshow": {
     "slide_type": "subslide"
    }
   },
   "source": [
    "- Kafka\n",
    "- Netcat\n",
    "- Syslog\n",
    "- Http\n",
    "- Custom\n",
    "\n",
    "https://flume.apache.org/releases/content/1.9.0/FlumeUserGuide.html#flume-sources"
   ]
  },
  {
   "cell_type": "markdown",
   "metadata": {
    "slideshow": {
     "slide_type": "slide"
    }
   },
   "source": [
    "# Flume Channels"
   ]
  },
  {
   "cell_type": "markdown",
   "metadata": {
    "slideshow": {
     "slide_type": "subslide"
    }
   },
   "source": [
    "# Memory"
   ]
  },
  {
   "cell_type": "markdown",
   "metadata": {
    "slideshow": {
     "slide_type": "fragment"
    }
   },
   "source": [
    "The events are stored in an in-memory queue with configurable max size. It’s ideal for flows that need higher throughput and are prepared to lose the staged data in the event of a agent failures. Required properties are in bold."
   ]
  },
  {
   "cell_type": "markdown",
   "metadata": {
    "slideshow": {
     "slide_type": "subslide"
    }
   },
   "source": [
    "|Property  Name     |Default\t | Description\n",
    "| ---               | ---        | ---\n",
    "|type\t            | –\t         |The component type name, needs to be memory\n",
    "|capacity\t        |100\t     |The maximum number of events stored in the channel\n",
    "|transactionCapacity|100\t     |The maximum number of events the channel will take from a source or give to a sink per transaction\n",
    "|keep-alive\t        |3\t         |Timeout in seconds for adding or removing an event\n",
    "|byteCapacityBufferPercentage|20\t| Defines the percent of buffer between byteCapacity and the estimated total size of all events in the channel, to account for data in headers. See below.\n",
    "|byteCapacity       |see description|maximum total bytes of memory allowed as a sum of all events in this channel. The implementation only counts the Event body, which is the reason for providing the byteCapacityBufferPercentage configuration parameter as well. Defaults to a computed value equal to 80% of the maximum memory available to the JVM"
   ]
  },
  {
   "cell_type": "markdown",
   "metadata": {
    "slideshow": {
     "slide_type": "subslide"
    }
   },
   "source": [
    "# JDBC"
   ]
  },
  {
   "cell_type": "markdown",
   "metadata": {
    "slideshow": {
     "slide_type": "fragment"
    }
   },
   "source": [
    "The events are stored in a persistent storage that’s backed by a database. The JDBC channel currently supports embedded Derby. This is a durable channel that’s ideal for flows where recoverability is important."
   ]
  },
  {
   "cell_type": "markdown",
   "metadata": {
    "slideshow": {
     "slide_type": "subslide"
    }
   },
   "source": [
    "# Kafka"
   ]
  },
  {
   "cell_type": "markdown",
   "metadata": {
    "slideshow": {
     "slide_type": "fragment"
    }
   },
   "source": [
    "The events are stored in a Kafka cluster (must be installed separately). Kafka provides high availability and replication, so in case an agent or a kafka broker crashes, the events are immediately available to other sinks\n",
    "\n",
    "The Kafka channel can be used for multiple scenarios:\n",
    "\n",
    "- With Flume source and sink - it provides a reliable and highly available channel for events\n",
    "- With Flume source and interceptor but no sink - it allows writing Flume events into a Kafka topic, for use by other apps\n",
    "- With Flume sink, but no source - it is a low-latency, fault tolerant way to send events from Kafka to Flume sinks such as HDFS, HBase or Solr\n",
    "\n",
    "This currently supports Kafka server releases 0.10.1.0 or higher. Testing was done up to 2.0.1 that was the highest avilable version at the time of the release."
   ]
  },
  {
   "cell_type": "markdown",
   "metadata": {
    "slideshow": {
     "slide_type": "subslide"
    }
   },
   "source": [
    "# File"
   ]
  },
  {
   "cell_type": "markdown",
   "metadata": {
    "slideshow": {
     "slide_type": "subslide"
    }
   },
   "source": [
    "| Property Name                               | Default                          | Description                                                                                                                                                         |\n",
    "|---------------------------------------------|----------------------------------|---------------------------------------------------------------------------------------------------------------------------------------------------------------------|\n",
    "| type                                        | –                                | The component type name, needs to be file.                                                                                                                          |\n",
    "| checkpointDir                               | ~/.flume/file-channel/checkpoint | The directory where checkpoint file will be stored                                                                                                                  |\n",
    "| useDualCheckpoints                          | false                            | Backup the checkpoint. If this is set to true, backupCheckpointDir must be set                                                                                      |\n",
    "| backupCheckpointDir                         | –                                | The directory where the checkpoint is backed up to. This directory must not be the same as the data directories or the checkpoint directory                         |\n",
    "| dataDirs                                    | ~/.flume/file-channel/data       | Comma separated list of directories for storing log files. Using multiple directories on separate disks can improve file channel peformance                         |\n",
    "| transactionCapacity                         | 10000                            | The maximum size of transaction supported by the channel                                                                                                            |\n",
    "| checkpointInterval                          | 30000                            | Amount of time (in millis) between checkpoints                                                                                                                      |\n",
    "| maxFileSize                                 | 2146435071                       | Max size (in bytes) of a single log file                                                                                                                            |\n",
    "| minimumRequiredSpace                        | 524288000                        | Minimum Required free space (in bytes). To avoid data corruption, File Channel stops accepting take/put requests when free space drops below this value             |\n",
    "| capacity                                    | 1000000                          | Maximum capacity of the channel                                                                                                                                     |\n",
    "| keep-alive                                  | 3                                | Amount of time (in sec) to wait for a put operation                                                                                                                 |\n",
    "| use-log-replay-v1                           | false                            | Expert: Use old replay logic                                                                                                                                        |\n",
    "| use-fast-replay                             | false                            | Expert: Replay without using queue                                                                                                                                  |\n",
    "| checkpointOnClose                           | true                             | Controls if a checkpoint is created when the channel is closed. Creating a checkpoint on close speeds up subsequent startup of the file channel by avoiding replay. |\n",
    "| encryption.activeKey                        | –                                | Key name used to encrypt new data                                                                                                                                   |\n",
    "| encryption.cipherProvider                   | –                                | Cipher provider type, supported types: AESCTRNOPADDING                                                                                                              |\n",
    "| encryption.keyProvider                      | –                                | Key provider type, supported types: JCEKSFILE                                                                                                                       |\n",
    "| encryption.keyProvider.keyStoreFile         | –                                | Path to the keystore file                                                                                                                                           |\n",
    "| encrpytion.keyProvider.keyStorePasswordFile | –                                | Path to the keystore password file                                                                                                                                  |\n",
    "| encryption.keyProvider.keys                 | –                                | List of all keys (e.g. history of the activeKey setting)                                                                                                            |\n",
    "| encyption.keyProvider.keys.*.passwordFile   | –                                | Path to the optional key password file                                                                                                                              |"
   ]
  },
  {
   "cell_type": "markdown",
   "metadata": {
    "slideshow": {
     "slide_type": "subslide"
    }
   },
   "source": [
    "# Others"
   ]
  },
  {
   "cell_type": "markdown",
   "metadata": {
    "slideshow": {
     "slide_type": "fragment"
    }
   },
   "source": [
    "- Spillable Memory\n",
    "- Pseudo Transaction \n",
    "- Custom"
   ]
  },
  {
   "cell_type": "markdown",
   "metadata": {
    "slideshow": {
     "slide_type": "slide"
    }
   },
   "source": [
    "# HDFS"
   ]
  },
  {
   "cell_type": "markdown",
   "metadata": {
    "slideshow": {
     "slide_type": "subslide"
    }
   },
   "source": [
    "HDFS is the primary distributed storage used by Hadoop applications. A HDFS cluster primarily consists of a NameNode that manages the file system metadata and DataNodes that store the actual data. "
   ]
  },
  {
   "cell_type": "markdown",
   "metadata": {
    "slideshow": {
     "slide_type": "subslide"
    }
   },
   "source": [
    "The HDFS architecture diagram depicts basic interactions among NameNode, the DataNodes, and the clients. Clients contact NameNode for file metadata or file modifications and perform actual file I/O directly with the DataNodes."
   ]
  },
  {
   "cell_type": "markdown",
   "metadata": {
    "slideshow": {
     "slide_type": "fragment"
    }
   },
   "source": [
    "![](../images/hdfs.gif)"
   ]
  },
  {
   "cell_type": "markdown",
   "metadata": {
    "slideshow": {
     "slide_type": "subslide"
    }
   },
   "source": [
    "The following are some of the salient features that could be of interest to many users."
   ]
  },
  {
   "cell_type": "markdown",
   "metadata": {
    "slideshow": {
     "slide_type": "fragment"
    }
   },
   "source": [
    "- Hadoop, including HDFS, is well suited for distributed storage and distributed processing using commodity hardware. It is fault tolerant, scalable, and extremely simple to expand. MapReduce, well known for its simplicity and applicability for large set of distributed applications, is an integral part of Hadoop."
   ]
  },
  {
   "cell_type": "markdown",
   "metadata": {
    "slideshow": {
     "slide_type": "fragment"
    }
   },
   "source": [
    "- HDFS is highly configurable with a default configuration well suited for many installations. Most of the time, configuration needs to be tuned only for very large clusters."
   ]
  },
  {
   "cell_type": "markdown",
   "metadata": {
    "slideshow": {
     "slide_type": "slide"
    }
   },
   "source": [
    "- Hadoop is written in Java and is supported on all major platforms.\n",
    "- Hadoop supports shell-like commands to interact with HDFS directly.\n",
    "- The NameNode and Datanodes have built in web servers that makes it easy to check current status of the cluster."
   ]
  },
  {
   "cell_type": "markdown",
   "metadata": {
    "slideshow": {
     "slide_type": "slide"
    }
   },
   "source": [
    "# Start Hadoop in Docker"
   ]
  },
  {
   "cell_type": "markdown",
   "metadata": {
    "slideshow": {
     "slide_type": "subslide"
    }
   },
   "source": [
    "Check Out\n",
    "\n",
    "https://github.com/big-data-europe/docker-hadoop"
   ]
  },
  {
   "cell_type": "markdown",
   "metadata": {},
   "source": [
    "Edit docker-compose.yml\n",
    "```yaml \n",
    "version: \"3\"\n",
    "\n",
    "services:\n",
    "  namenode:\n",
    "    image: bde2020/hadoop-namenode:2.0.0-hadoop3.2.1-java8\n",
    "    container_name: namenode\n",
    "    restart: always\n",
    "    ports:\n",
    "      - 9870:9870\n",
    "      - 9000:9000\n",
    "    volumes:\n",
    "      - hadoop_namenode:/hadoop/dfs/name\n",
    "    environment:\n",
    "      - CLUSTER_NAME=test\n",
    "    env_file:\n",
    "      - ./hadoop.env\n",
    "    networks:\n",
    "      tap:\n",
    "          ipv4_address: 10.0.100.71\n",
    "\n",
    "  datanode:\n",
    "    image: bde2020/hadoop-datanode:2.0.0-hadoop3.2.1-java8\n",
    "    container_name: datanode\n",
    "    restart: always\n",
    "    volumes:\n",
    "      - hadoop_datanode:/hadoop/dfs/data\n",
    "    environment:\n",
    "      SERVICE_PRECONDITION: \"namenode:9870\"\n",
    "    env_file:\n",
    "      - ./hadoop.env\n",
    "    networks:\n",
    "      tap:\n",
    "          ipv4_address: 10.0.100.72\n",
    "  \n",
    "  resourcemanager:\n",
    "    image: bde2020/hadoop-resourcemanager:2.0.0-hadoop3.2.1-java8\n",
    "    container_name: resourcemanager\n",
    "    restart: always\n",
    "    environment:\n",
    "      SERVICE_PRECONDITION: \"namenode:9000 namenode:9870 datanode:9864\"\n",
    "    env_file:\n",
    "      - ./hadoop.env\n",
    "    networks:\n",
    "      tap:\n",
    "          ipv4_address: 10.0.100.73\n",
    "    \n",
    "  nodemanager1:\n",
    "    image: bde2020/hadoop-nodemanager:2.0.0-hadoop3.2.1-java8\n",
    "    container_name: nodemanager\n",
    "    restart: always\n",
    "    environment:\n",
    "      SERVICE_PRECONDITION: \"namenode:9000 namenode:9870 datanode:9864 resourcemanager:8088\"\n",
    "    env_file:\n",
    "      - ./hadoop.env\n",
    "    networks:\n",
    "      tap:\n",
    "          ipv4_address: 10.0.100.74\n",
    "  \n",
    "  historyserver:\n",
    "    image: bde2020/hadoop-historyserver:2.0.0-hadoop3.2.1-java8\n",
    "    container_name: historyserver\n",
    "    restart: always\n",
    "    environment:\n",
    "      SERVICE_PRECONDITION: \"namenode:9000 namenode:9870 datanode:9864 resourcemanager:8088\"\n",
    "    volumes:\n",
    "      - hadoop_historyserver:/hadoop/yarn/timeline\n",
    "    env_file:\n",
    "      - ./hadoop.env\n",
    "    networks:\n",
    "      tap:\n",
    "          ipv4_address: 10.0.100.75\n",
    "\n",
    "volumes:\n",
    "  hadoop_namenode:\n",
    "  hadoop_datanode:\n",
    "  hadoop_historyserver:\n",
    "\n",
    "networks:\n",
    "  tap:\n",
    "    external: true\n",
    "\n",
    "```"
   ]
  },
  {
   "cell_type": "markdown",
   "metadata": {
    "slideshow": {
     "slide_type": "subslide"
    }
   },
   "source": [
    "```bash \n",
    "cd /home/nics/Dev/docker-hadoop\n",
    "docker-compose up\n",
    "# Remember to use docker compose and not compose 3\n",
    "```"
   ]
  },
  {
   "cell_type": "markdown",
   "metadata": {
    "slideshow": {
     "slide_type": "subslide"
    }
   },
   "source": [
    "| Service         | Address                                            |\n",
    "| ---------       |-----------------                                   |\n",
    "| Namenode        |http://localhost:9870/dfshealth.html#tab-overview|\n",
    "| History server  |http://dockerhadoop:8188/applicationhistory        |\n",
    "| Datanode        |http://dockerhadoop:9864/                           | \n",
    "| Nodemanager     |http://dockerhadoop:8042/node                       |\n",
    "| Resource manager|http://dockerhadoop:8088/                           |"
   ]
  },
  {
   "cell_type": "markdown",
   "metadata": {
    "slideshow": {
     "slide_type": "subslide"
    }
   },
   "source": [
    "See also\n",
    "\n",
    "https://www.section.io/engineering-education/set-up-containerize-and-test-a-single-hadoop-cluster-using-docker-and-docker-compose/\n",
    "\n",
    "https://shortcut.com/developer-how-to/how-to-set-up-a-hadoop-cluster-in-docker"
   ]
  },
  {
   "cell_type": "markdown",
   "metadata": {
    "slideshow": {
     "slide_type": "slide"
    }
   },
   "source": [
    "# Flume Sinks"
   ]
  },
  {
   "cell_type": "markdown",
   "metadata": {
    "slideshow": {
     "slide_type": "subslide"
    }
   },
   "source": [
    "# HFDS"
   ]
  },
  {
   "cell_type": "markdown",
   "metadata": {
    "slideshow": {
     "slide_type": "subslide"
    }
   },
   "source": [
    "This sink writes events into the Hadoop Distributed File System (HDFS). It currently supports creating text and sequence files. It supports compression in both file types. \n",
    "\n",
    "The files can be rolled (close current file and create a new one) periodically based on the elapsed time or size of data or number of events. It also buckets/partitions data by attributes like timestamp or machine where the event originated. \n",
    "\n",
    "The HDFS directory path may contain formatting escape sequences that will replaced by the HDFS sink to generate a directory/file name to store the events. \n",
    "\n",
    "Using this sink requires hadoop to be installed so that Flume can use the Hadoop jars to communicate with the HDFS cluster. Note that a version of Hadoop that supports the sync() call is required."
   ]
  },
  {
   "cell_type": "markdown",
   "metadata": {
    "slideshow": {
     "slide_type": "subslide"
    }
   },
   "source": [
    "# Escape Sequences\n",
    "| Alias        | Description                                                                          |\n",
    "|--------------|--------------------------------------------------------------------------------------|\n",
    "| %{host}      | Substitute value of event header named “host”. Arbitrary header names are supported. |\n",
    "| %t           | Unix time in milliseconds                                                            |\n",
    "| %a           | locale’s short weekday name (Mon, Tue, ...)                                          |\n",
    "| %A           | locale’s full weekday name (Monday, Tuesday, ...)                                    |\n",
    "| %b           | locale’s short month name (Jan, Feb, ...)                                            |\n",
    "| %B           | locale’s long month name (January, February, ...)                                    |\n",
    "| %c           | locale’s date and time (Thu Mar 3 23:05:25 2005)                                     |\n",
    "| %d           | day of month (01)                                                                    |\n",
    "| %e           | day of month without padding (1)                                                     |\n",
    "| %D           | date; same as %m/%d/%y                                                               |\n",
    "| %H           | hour (00..23)                                                                        |\n",
    "| %I           | hour (01..12)                                                                        |\n",
    "| %j           | day of year (001..366)                                                               |\n",
    "| %k           | hour ( 0..23)                                                                        |\n",
    "| %m           | month (01..12)                                                                       |\n",
    "| %n           | month without padding (1..12)                                                        |\n",
    "| %M           | minute (00..59)                                                                      |\n",
    "| %p           | locale’s equivalent of am or pm                                                      |\n",
    "| %s           | seconds since 1970-01-01 00:00:00 UTC                                                |\n",
    "| %S           | second (00..59)                                                                      |\n",
    "| %y           | last two digits of year (00..99)                                                     |\n",
    "| %Y           | year (2010)                                                                          |\n",
    "| %z           | +hhmm numeric timezone (for example, -0400)                                          |\n",
    "| %[localhost] | Substitute the hostname of the host where the agent is running                       |\n",
    "| %[IP]        | Substitute the IP address of the host where the agent is running                     |\n",
    "| %[FQDN]      | Substitute the canonical hostname of the host where the agent is running             |"
   ]
  },
  {
   "cell_type": "markdown",
   "metadata": {
    "slideshow": {
     "slide_type": "subslide"
    }
   },
   "source": [
    "# Configuration\n",
    "\n",
    "| Name                   | Default      | Description                                                                                                                                                                                                                                                                                                                                                                                                                                                                                                                                                              |\n",
    "|------------------------|--------------|--------------------------------------------------------------------------------------------------------------------------------------------------------------------------------------------------------------------------------------------------------------------------------------------------------------------------------------------------------------------------------------------------------------------------------------------------------------------------------------------------------------------------------------------------------------------------|\n",
    "| channel                | –            |                                                                                                                                                                                                                                                                                                                                                                                                                                                                                                                                                                          |\n",
    "| type                   | –            | The component type name, needs to be hdfs                                                                                                                                                                                                                                                                                                                                                                                                                                                                                                                                |\n",
    "| hdfs.path              | –            | HDFS directory path (eg hdfs://namenode/flume/webdata/)                                                                                                                                                                                                                                                                                                                                                                                                                                                                                                                  |\n",
    "| hdfs.filePrefix        | FlumeData    | Name prefixed to files created by Flume in hdfs directory                                                                                                                                                                                                                                                                                                                                                                                                                                                                                                                |\n",
    "| hdfs.fileSuffix        | –            | Suffix to append to file (eg .avro - NOTE: period is not automatically added)                                                                                                                                                                                                                                                                                                                                                                                                                                                                                            |\n",
    "| hdfs.inUsePrefix       | –            | Prefix that is used for temporal files that flume actively writes into                                                                                                                                                                                                                                                                                                                                                                                                                                                                                                   |\n",
    "| hdfs.inUseSuffix       | .tmp         | Suffix that is used for temporal files that flume actively writes into                                                                                                                                                                                                                                                                                                                                                                                                                                                                                                   |\n",
    "| hdfs.emptyInUseSuffix  | false        | If false an hdfs.inUseSuffix is used while writing the output. After closing the output hdfs.inUseSuffix is removed from the output file name. If true the hdfs.inUseSuffix parameter is ignored an empty string is used instead.                                                                                                                                                                                                                                                                                                                                        |\n",
    "| hdfs.rollInterval      | 30           | Number of seconds to wait before rolling current file (0 = never roll based on time interval)                                                                                                                                                                                                                                                                                                                                                                                                                                                                            |\n",
    "| hdfs.rollSize          | 1024         | File size to trigger roll, in bytes (0: never roll based on file size)                                                                                                                                                                                                                                                                                                                                                                                                                                                                                                   |\n",
    "| hdfs.rollCount         | 10           | Number of events written to file before it rolled (0 = never roll based on number of events)                                                                                                                                                                                                                                                                                                                                                                                                                                                                             |\n",
    "| hdfs.idleTimeout       | 0            | Timeout after which inactive files get closed (0 = disable automatic closing of idle files)                                                                                                                                                                                                                                                                                                                                                                                                                                                                              |\n",
    "| hdfs.batchSize         | 100          | number of events written to file before it is flushed to HDFS                                                                                                                                                                                                                                                                                                                                                                                                                                                                                                            |\n",
    "| hdfs.codeC             | –            | Compression codec. one of following : gzip, bzip2, lzo, lzop, snappy                                                                                                                                                                                                                                                                                                                                                                                                                                                                                                     |\n",
    "| hdfs.fileType          | SequenceFile | File format: currently SequenceFile, DataStream or CompressedStream (1)DataStream will not compress output file and please don’t set codeC (2)CompressedStream requires set hdfs.codeC with an available codeC                                                                                                                                                                                                                                                                                                                                                           |\n",
    "| hdfs.maxOpenFiles      | 5000         | Allow only this number of open files. If this number is exceeded, the oldest file is closed.                                                                                                                                                                                                                                                                                                                                                                                                                                                                             |\n",
    "| hdfs.minBlockReplicas  | –            | Specify minimum number of replicas per HDFS block. If not specified, it comes from the default Hadoop config in the classpath.                                                                                                                                                                                                                                                                                                                                                                                                                                           |\n",
    "| hdfs.writeFormat       | Writable     | Format for sequence file records. One of Text or Writable. Set to Text before creating data files with Flume, otherwise those files cannot be read by either Apache Impala (incubating) or Apache Hive.                                                                                                                                                                                                                                                                                                                                                                  |\n",
    "| hdfs.threadsPoolSize   | 10           | Number of threads per HDFS sink for HDFS IO ops (open, write, etc.)                                                                                                                                                                                                                                                                                                                                                                                                                                                                                                      |\n",
    "| hdfs.rollTimerPoolSize | 1            | Number of threads per HDFS sink for scheduling timed file rolling                                                                                                                                                                                                                                                                                                                                                                                                                                                                                                        |\n",
    "| hdfs.kerberosPrincipal | –            | Kerberos user principal for accessing secure HDFS                                                                                                                                                                                                                                                                                                                                                                                                                                                                                                                        |\n",
    "| hdfs.kerberosKeytab    | –            | Kerberos keytab for accessing secure HDFS                                                                                                                                                                                                                                                                                                                                                                                                                                                                                                                                |\n",
    "| hdfs.proxyUser         |              |                                                                                                                                                                                                                                                                                                                                                                                                                                                                                                                                                                          |\n",
    "| hdfs.round             | false        | Should the timestamp be rounded down (if true, affects all time based escape sequences except %t)                                                                                                                                                                                                                                                                                                                                                                                                                                                                        |\n",
    "| hdfs.roundValue        | 1            | Rounded down to the highest multiple of this (in the unit configured using hdfs.roundUnit), less than current time.                                                                                                                                                                                                                                                                                                                                                                                                                                                      |\n",
    "| hdfs.roundUnit         | second       | The unit of the round down value - second, minute or hour.                                                                                                                                                                                                                                                                                                                                                                                                                                                                                                               |\n",
    "| hdfs.timeZone          | Local Time   | Name of the timezone that should be used for resolving the directory path, e.g. America/Los_Angeles.                                                                                                                                                                                                                                                                                                                                                                                                                                                                     |\n",
    "| hdfs.useLocalTimeStamp | false        | Use the local time (instead of the timestamp from the event header) while replacing the escape sequences.                                                                                                                                                                                                                                                                                                                                                                                                                                                                |\n",
    "| hdfs.closeTries        | 0            | Number of times the sink must try renaming a file, after initiating a close attempt. If set to 1, this sink will not re-try a failed rename (due to, for example, NameNode or DataNode failure), and may leave the file in an open state with a .tmp extension. If set to 0, the sink will try to rename the file until the file is eventually renamed (there is no limit on the number of times it would try). The file may still remain open if the close call fails but the data will be intact and in this case, the file will be closed only after a Flume restart. |\n",
    "| hdfs.retryInterval     | 180          | Time in seconds between consecutive attempts to close a file. Each close call costs multiple RPC round-trips to the Namenode, so setting this too low can cause a lot of load on the name node. If set to 0 or less, the sink will not attempt to close the file if the first attempt fails, and may leave the file open or with a ”.tmp” extension.                                                                                                                                                                                                                     |\n",
    "| serializer             | TEXT         | Other possible options include avro_event or the fully-qualified class name of an implementation of the EventSerializer.Builder interface.                                                                                                                                                                                                                                                                                                                                                                                                                               |"
   ]
  },
  {
   "cell_type": "markdown",
   "metadata": {
    "slideshow": {
     "slide_type": "fragment"
    }
   },
   "source": [
    "```properties\n",
    "a1.channels = c1\n",
    "a1.sinks = k1\n",
    "a1.sinks.k1.type = hdfs\n",
    "a1.sinks.k1.channel = c1\n",
    "a1.sinks.k1.hdfs.path = /flume/events/%y-%m-%d/%H%M/%S\n",
    "a1.sinks.k1.hdfs.filePrefix = events-\n",
    "a1.sinks.k1.hdfs.round = true\n",
    "a1.sinks.k1.hdfs.roundValue = 10\n",
    "a1.sinks.k1.hdfs.roundUnit = minute\n",
    "```"
   ]
  },
  {
   "cell_type": "markdown",
   "metadata": {
    "slideshow": {
     "slide_type": "slide"
    }
   },
   "source": [
    "# Demo Netcat - Hdfs"
   ]
  },
  {
   "cell_type": "markdown",
   "metadata": {
    "slideshow": {
     "slide_type": "subslide"
    }
   },
   "source": [
    "docker build ../flume/ --tag tap:flume\n",
    "\n",
    "docker run --network tap -p 44444:44444 -it -e FLUME_CONF_FILE=netcatHdfs.conf tap:flume"
   ]
  },
  {
   "cell_type": "markdown",
   "metadata": {
    "slideshow": {
     "slide_type": "subslide"
    }
   },
   "source": [
    "# Logger"
   ]
  },
  {
   "cell_type": "markdown",
   "metadata": {
    "slideshow": {
     "slide_type": "subslide"
    }
   },
   "source": [
    "Logs event at INFO level. Typically useful for testing/debugging purpose. Required properties are in bold. This sink is the only exception which doesn’t require the extra configuration explained in the Logging raw data section.\n",
    "\n",
    "maxBytesToLog: 16 -> Maximum number of bytes of the Event body to log\n",
    "https://github.com/apache/flume/blob/trunk/flume-ng-core/src/main/java/org/apache/flume/sink/LoggerSink.java"
   ]
  },
  {
   "cell_type": "markdown",
   "metadata": {
    "slideshow": {
     "slide_type": "subslide"
    }
   },
   "source": [
    "# File Roll"
   ]
  },
  {
   "cell_type": "markdown",
   "metadata": {
    "slideshow": {
     "slide_type": "subslide"
    }
   },
   "source": [
    "Stores events on the local filesystem. \n",
    "\n",
    "Required properties are in bold.\n",
    "\n"
   ]
  },
  {
   "cell_type": "markdown",
   "metadata": {
    "slideshow": {
     "slide_type": "subslide"
    }
   },
   "source": [
    "| Property Name              | Default | Description                                                                                                            |\n",
    "|----------------------------|---------|------------------------------------------------------------------------------------------------------------------------|\n",
    "| channel                    | –       |                                                                                                                        |\n",
    "| type                       | –       | The component type name, needs to be file_roll.                                                                        |\n",
    "| sink.directory             | –       | The directory where files will be stored                                                                               |\n",
    "| sink.pathManager           | DEFAULT | The PathManager implementation to use.                                                                                 |\n",
    "| sink.pathManager.extension | –       | The file extension if the default PathManager is used.                                                                 |\n",
    "| sink.pathManager.prefix    | –       | A character string to add to the beginning of the file name if the default PathManager is used                         |\n",
    "| sink.rollInterval          | 30      | Roll the file every 30 seconds. Specifying 0 will disable rolling and cause all events to be written to a single file. |\n",
    "| sink.serializer            | TEXT    | Other possible options include avro_event or the FQCN of an implementation of EventSerializer.Builder interface.       |\n",
    "| sink.batchSize             | 100     |                                                                                                                        |"
   ]
  },
  {
   "cell_type": "markdown",
   "metadata": {
    "slideshow": {
     "slide_type": "subslide"
    }
   },
   "source": [
    "# Elastic Search"
   ]
  },
  {
   "cell_type": "markdown",
   "metadata": {
    "slideshow": {
     "slide_type": "subslide"
    }
   },
   "source": [
    "This sink writes data to an elasticsearch cluster. By default, events will be written so that the Kibana graphical interface can display them - just as if logstash wrote them.\n",
    "\n",
    "The elasticsearch and lucene-core jars required for your environment must be placed in the lib directory of the Apache Flume installation. Elasticsearch requires that the major version of the client JAR match that of the server and that both are running the same minor version of the JVM. SerializationExceptions will appear if this is incorrect. To select the required version first determine the version of elasticsearch and the JVM version the target cluster is running. Then select an elasticsearch client library which matches the major version. A 0.19.x client can talk to a 0.19.x cluster; 0.20.x can talk to 0.20.x and 0.90.x can talk to 0.90.x. Once the elasticsearch version has been determined then read the pom.xml file to determine the correct lucene-core JAR version to use. The Flume agent which is running the ElasticSearchSink should also match the JVM the target cluster is running down to the minor version.\n",
    "\n",
    "Events will be written to a new index every day. The name will be <indexName>-yyyy-MM-dd where <indexName> is the indexName parameter. The sink will start writing to a new index at midnight UTC.\n",
    "\n",
    "Events are serialized for elasticsearch by the ElasticSearchLogStashEventSerializer by default. This behaviour can be overridden with the serializer parameter. This parameter accepts implementations of org.apache.flume.sink.elasticsearch.ElasticSearchEventSerializer or org.apache.flume.sink.elasticsearch.ElasticSearchIndexRequestBuilderFactory. Implementing ElasticSearchEventSerializer is deprecated in favour of the more powerful ElasticSearchIndexRequestBuilderFactory.\n",
    "\n",
    "The type is the FQCN: org.apache.flume.sink.elasticsearch.ElasticSearchSink"
   ]
  },
  {
   "cell_type": "markdown",
   "metadata": {
    "slideshow": {
     "slide_type": "subslide"
    }
   },
   "source": [
    "| Property Name | Default                                                                  | Description                                                                                                                                                                                                                                                                                                                                                                                                                                                                           |\n",
    "|--------------|--------------------------------------------------------------------------|---------------------------------------------------------------------------------------------------------------------------------------------------------------------------------------------------------------------------------------------------------------------------------------------------------------------------------------------------------------------------------------------------------------------------------------------------------------------------------------|\n",
    "| channel      | –                                                                        |                                                                                                                                                                                                                                                                                                                                                                                                                                                                                       |\n",
    "| type         | –                                                                        | The component type name, needs to be org.apache.flume.sink.elasticsearch.ElasticSearchSink                                                                                                                                                                                                                                                                                                                                                                                            |\n",
    "| hostNames    | –                                                                        | Comma separated list of hostname:port, if the port is not present the default port ‘9300’ will be used                                                                                                                                                                                                                                                                                                                                                                                |\n",
    "| indexName    | flume                                                                    | The name of the index which the date will be appended to. Example ‘flume’ -> ‘flume-yyyy-MM-dd’ Arbitrary header substitution is supported, eg. %{header} replaces with value of named event header                                                                                                                                                                                                                                                                                   |\n",
    "| indexType    | logs                                                                     | The type to index the document to, defaults to ‘log’ Arbitrary header substitution is supported, eg. %{header} replaces with value of named event header                                                                                                                                                                                                                                                                                                                              |\n",
    "| clusterName  | elasticsearch                                                            | Name of the ElasticSearch cluster to connect to                                                                                                                                                                                                                                                                                                                                                                                                                                       |\n",
    "| batchSize    | 100                                                                      | Number of events to be written per txn.                                                                                                                                                                                                                                                                                                                                                                                                                                               |\n",
    "| ttl          | –                                                                        | TTL in days, when set will cause the expired documents to be deleted automatically, if not set documents will never be automatically deleted. TTL is accepted both in the earlier form of integer only e.g. a1.sinks.k1.ttl = 5 and also with a qualifier ms (millisecond), s (second), m (minute), h (hour), d (day) and w (week). Example a1.sinks.k1.ttl = 5d will set TTL to 5 days. Follow http://www.elasticsearch.org/guide/reference/mapping/ttl-field/ for more information. |\n",
    "| serializer   | org.apache.flume.sink.elasticsearch.ElasticSearchLogStashEventSerializer | The ElasticSearchIndexRequestBuilderFactory or ElasticSearchEventSerializer to use. Implementations of either class are accepted but ElasticSearchIndexRequestBuilderFactory is preferred.                                                                                                                                                                                                                                                                                            |\n",
    "| serializer.* | –                                                                        | Properties to be passed to the serializer.                                                                                                                                                                                                                                                                                                                                                                                                                                            |"
   ]
  },
  {
   "cell_type": "markdown",
   "metadata": {
    "slideshow": {
     "slide_type": "subslide"
    }
   },
   "source": [
    "```properties\n",
    "a1.channels = c1\n",
    "a1.sinks = k1\n",
    "a1.sinks.k1.type = elasticsearch\n",
    "a1.sinks.k1.hostNames = 127.0.0.1:9200,127.0.0.2:9300\n",
    "a1.sinks.k1.indexName = foo_index\n",
    "a1.sinks.k1.indexType = bar_type\n",
    "a1.sinks.k1.clusterName = foobar_cluster\n",
    "a1.sinks.k1.batchSize = 500\n",
    "a1.sinks.k1.ttl = 5d\n",
    "a1.sinks.k1.serializer = org.apache.flume.sink.elasticsearch.ElasticSearchDynamicSerializer\n",
    "a1.sinks.k1.channel = c1\n",
    "```"
   ]
  },
  {
   "cell_type": "markdown",
   "metadata": {
    "slideshow": {
     "slide_type": "subslide"
    }
   },
   "source": [
    "# Kafka Sync"
   ]
  },
  {
   "cell_type": "markdown",
   "metadata": {
    "slideshow": {
     "slide_type": "subslide"
    }
   },
   "source": [
    "This is a Flume Sink implementation that can publish data to a Kafka topic. One of the objective is to integrate Flume with Kafka so that pull based processing systems can process the data coming through various Flume sources.\n",
    "\n",
    "This currently supports Kafka server releases 0.10.1.0 or higher. Testing was done up to 2.0.1 that was the highest avilable version at the time of the release."
   ]
  },
  {
   "cell_type": "markdown",
   "metadata": {
    "slideshow": {
     "slide_type": "subslide"
    }
   },
   "source": [
    "| Property Name                    | Default             | Description                                                                                                                                                                                                                                                                                                                                                                                                                                                                                               |\n",
    "|----------------------------------|---------------------|-----------------------------------------------------------------------------------------------------------------------------------------------------------------------------------------------------------------------------------------------------------------------------------------------------------------------------------------------------------------------------------------------------------------------------------------------------------------------------------------------------------|\n",
    "| type                             | –                   | Must be set to org.apache.flume.sink.kafka.KafkaSink                                                                                                                                                                                                                                                                                                                                                                                                                                                      |\n",
    "| kafka.bootstrap.servers          | –                   | List of brokers Kafka-Sink will connect to, to get the list of topic partitions This can be a partial list of brokers, but we recommend at least two for HA. The format is comma separated list of hostname:port                                                                                                                                                                                                                                                                                          |\n",
    "| kafka.topic                      | default-flume-topic | The topic in Kafka to which the messages will be published. If this parameter is configured, messages will be published to this topic. If the event header contains a “topic” field, the event will be published to that topic overriding the topic configured here. Arbitrary header substitution is supported, eg. %{header} is replaced with value of event header named “header”. (If using the substitution, it is recommended to set “auto.create.topics.enable” property of Kafka broker to true.) |\n",
    "| flumeBatchSize                   | 100                 | How many messages to process in one batch. Larger batches improve throughput while adding latency.                                                                                                                                                                                                                                                                                                                                                                                                        |\n",
    "| kafka.producer.acks              | 1                   | How many replicas must acknowledge a message before its considered successfully written. Accepted values are 0 (Never wait for acknowledgement), 1 (wait for leader only), -1 (wait for all replicas) Set this to -1 to avoid data loss in some cases of leader failure.                                                                                                                                                                                                                                  |\n",
    "| useFlumeEventFormat              | false               | By default events are put as bytes onto the Kafka topic directly from the event body. Set to true to store events as the Flume Avro binary format. Used in conjunction with the same property on the KafkaSource or with the parseAsFlumeEvent property on the Kafka Channel this will preserve any Flume headers for the producing side.                                                                                                                                                                 |\n",
    "| defaultPartitionId               | –                   | Specifies a Kafka partition ID (integer) for all events in this channel to be sent to, unless overriden by partitionIdHeader. By default, if this property is not set, events will be distributed by the Kafka Producer’s partitioner - including by key if specified (or by a partitioner specified by kafka.partitioner.class).                                                                                                                                                                         |\n",
    "| partitionIdHeader                | –                   | When set, the sink will take the value of the field named using the value of this property from the event header and send the message to the specified partition of the topic. If the value represents an invalid partition, an EventDeliveryException will be thrown. If the header value is present then this setting overrides defaultPartitionId.                                                                                                                                                     |\n",
    "| allowTopicOverride               | true                | When set, the sink will allow a message to be produced into a topic specified by the topicHeader property (if provided).                                                                                                                                                                                                                                                                                                                                                                                  |\n",
    "| topicHeader                      | topic               | When set in conjunction with allowTopicOverride will produce a message into the value of the header named using the value of this property. Care should be taken when using in conjunction with the Kafka Source topicHeader property to avoid creating a loopback.                                                                                                                                                                                                                                       |\n",
    "| kafka.producer.security.protocol | PLAINTEXT           | Set to SASL_PLAINTEXT, SASL_SSL or SSL if writing to Kafka using some level of security. See below for additional info on secure setup.                                                                                                                                                                                                                                                                                                                                                                   |\n",
    "| more producer security props     |                     | If using SASL_PLAINTEXT, SASL_SSL or SSL refer to Kafka security for additional properties that need to be set on producer.                                                                                                                                                                                                                                                                                                                                                                               |\n",
    "| Other Kafka Producer Properties  | –                   | These properties are used to configure the Kafka Producer. Any producer property supported by Kafka can be used. The only requirement is to prepend the property name with the prefix kafka.producer. For example: kafka.producer.linger.ms                                                                                                                                                                                                                                                               |"
   ]
  },
  {
   "cell_type": "markdown",
   "metadata": {
    "slideshow": {
     "slide_type": "subslide"
    }
   },
   "source": [
    "# Other Sinks"
   ]
  },
  {
   "cell_type": "markdown",
   "metadata": {
    "slideshow": {
     "slide_type": "fragment"
    }
   },
   "source": [
    "Others\n",
    "- Avro \n",
    "- Thrift \n",
    "- IRC\n",
    "- Null\n",
    "- Hbase\n",
    "- Sorl\n",
    "- Kite\n",
    "- Http"
   ]
  },
  {
   "cell_type": "markdown",
   "metadata": {
    "slideshow": {
     "slide_type": "slide"
    }
   },
   "source": [
    "# Demo"
   ]
  },
  {
   "cell_type": "markdown",
   "metadata": {
    "slideshow": {
     "slide_type": "subslide"
    }
   },
   "source": [
    "# Demo Apache\n",
    "compose"
   ]
  },
  {
   "cell_type": "markdown",
   "metadata": {
    "slideshow": {
     "slide_type": "subslide"
    }
   },
   "source": [
    "# Demo Twitter\n",
    "flumeTwitter.sh"
   ]
  },
  {
   "cell_type": "markdown",
   "metadata": {
    "slideshow": {
     "slide_type": "slide"
    }
   },
   "source": [
    "# Is Flume a good for your problem ?"
   ]
  },
  {
   "cell_type": "markdown",
   "metadata": {
    "slideshow": {
     "slide_type": "subslide"
    }
   },
   "source": [
    "Flume is designed to transport and ingest regularly-generated event data over relatively stable, potentially complex topologies. The notion of “event data” is very broadly defined. To Flume, an event is just a generic blob of bytes. "
   ]
  },
  {
   "cell_type": "markdown",
   "metadata": {
    "slideshow": {
     "slide_type": "subslide"
    }
   },
   "source": [
    "There are some limitations on how large an event can be - for instance, it cannot be larger than what you can store in memory or on disk on a single machine - but in practice, flume events can be everything from textual log entries to image files. "
   ]
  },
  {
   "cell_type": "markdown",
   "metadata": {
    "slideshow": {
     "slide_type": "subslide"
    }
   },
   "source": [
    "The key property of an event is that they are generated in a continuous, streaming fashion. If your data is not regularly generated (i.e. you are trying to do a single bulk load of data into a Hadoop cluster) then Flume will still work, but it is probably overkill for your situation. "
   ]
  },
  {
   "cell_type": "markdown",
   "metadata": {
    "slideshow": {
     "slide_type": "subslide"
    }
   },
   "source": [
    "Flume likes relatively stable topologies. Your topologies do not need to be immutable, because Flume can deal with changes in topology without losing data and can also tolerate periodic reconfiguration due to fail-over or provisioning. It probably won’t work well if you plant to change topologies every day, because reconfiguration takes some thought and overhead."
   ]
  }
 ],
 "metadata": {
  "celltoolbar": "Slideshow",
  "kernelspec": {
   "display_name": "Python 3 (ipykernel)",
   "language": "python",
   "name": "python3"
  },
  "language_info": {
   "codemirror_mode": {
    "name": "ipython",
    "version": 3
   },
   "file_extension": ".py",
   "mimetype": "text/x-python",
   "name": "python",
   "nbconvert_exporter": "python",
   "pygments_lexer": "ipython3",
   "version": "3.8.10"
  },
  "rise": {
   "autolaunch": true,
   "enable_chalkboard": "true",
   "footer": "<div class=\"tap-footer\"> *** Technologies for advanced programming (TAP) - 2022 ***</div>",
   "header": "<div class=\"tap-header\"></div>",
   "scroll": true,
   "theme": "white"
  }
 },
 "nbformat": 4,
 "nbformat_minor": 4
}
