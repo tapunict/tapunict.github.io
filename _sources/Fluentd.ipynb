{
 "cells": [
  {
   "cell_type": "markdown",
   "metadata": {
    "slideshow": {
     "slide_type": "slide"
    }
   },
   "source": [
    "# Fluentd"
   ]
  },
  {
   "cell_type": "markdown",
   "metadata": {
    "slideshow": {
     "slide_type": "subslide"
    }
   },
   "source": [
    "# Build Your Unified Logging Layer\n",
    "## Fluentd is an open source data collector for unified logging layer.\n",
    "### Fluentd allows you to unify data collection and consumption for a better use and understanding of data.\n",
    "\n",
    "\n",
    "![](https://www.fluentd.org/images/fluentd-website-banner-n.jpg)\n",
    "[www.fluentd.org](https://www.fluentd.org)"
   ]
  },
  {
   "cell_type": "markdown",
   "metadata": {
    "cell_style": "split",
    "slideshow": {
     "slide_type": "subslide"
    }
   },
   "source": [
    "### Unified Logging Layer\n",
    "Fluentd decouples data sources from backend systems by providing a unified logging layer in between."
   ]
  },
  {
   "cell_type": "markdown",
   "metadata": {
    "cell_style": "split",
    "slideshow": {
     "slide_type": "fragment"
    }
   },
   "source": [
    "![](https://www.fluentd.org/images/fluentd-architecture.png)"
   ]
  },
  {
   "cell_type": "markdown",
   "metadata": {
    "cell_style": "split",
    "slideshow": {
     "slide_type": "subslide"
    }
   },
   "source": [
    "### Simple yet Flexible\n",
    "\n",
    "Fluentd's 500+ [plugins](https://www.fluentd.org/plugins/all#input-output)\n",
    "connect it to many data sources and outputs while keeping its core simple.\n",
    "\n",
    "Plugins are written in Ruby and hosted in rubygems\n"
   ]
  },
  {
   "cell_type": "markdown",
   "metadata": {
    "cell_style": "split",
    "slideshow": {
     "slide_type": "fragment"
    }
   },
   "source": [
    "![](http://fredericiana.com/media/wp/2012/05/rubygems.jpg)\n",
    "[Source](http://fredericiana.com/2012/05/24/meme-ruby-gems/)"
   ]
  },
  {
   "cell_type": "markdown",
   "metadata": {
    "cell_style": "split",
    "slideshow": {
     "slide_type": "subslide"
    }
   },
   "source": [
    "### Proven\n",
    "5,000+ data-driven companies rely on Fluentd. Its largest user currently collects logs from 50,000+ servers.\n",
    "[Testimonials](https://www.fluentd.org/testimonials)"
   ]
  },
  {
   "cell_type": "markdown",
   "metadata": {
    "cell_style": "split",
    "slideshow": {
     "slide_type": "fragment"
    }
   },
   "source": [
    "![](https://www.fluentd.org/images/cncf.png)"
   ]
  },
  {
   "cell_type": "markdown",
   "metadata": {
    "slideshow": {
     "slide_type": "subslide"
    }
   },
   "source": [
    "# Use Cases and How To"
   ]
  },
  {
   "cell_type": "markdown",
   "metadata": {
    "cell_style": "split",
    "slideshow": {
     "slide_type": "fragment"
    }
   },
   "source": [
    "## Use cases\n",
    "\n",
    "https://docs.fluentd.org/quickstart#step-2-use-cases"
   ]
  },
  {
   "cell_type": "markdown",
   "metadata": {
    "cell_style": "split",
    "slideshow": {
     "slide_type": "fragment"
    }
   },
   "source": [
    "## How To Guides\n",
    "\n",
    "https://docs.fluentd.org/how-to-guides\n"
   ]
  },
  {
   "cell_type": "markdown",
   "metadata": {},
   "source": [
    "# Log data is for machines\n",
    "![](https://www.fluentd.org/images/blog/unified-logging-machine-to-machine.png)\n",
    "https://www.fluentd.org/blog/unified-logging-layer"
   ]
  },
  {
   "cell_type": "markdown",
   "metadata": {
    "slideshow": {
     "slide_type": "subslide"
    }
   },
   "source": [
    "## Architecture"
   ]
  },
  {
   "cell_type": "markdown",
   "metadata": {
    "slideshow": {
     "slide_type": "fragment"
    }
   },
   "source": [
    "![Architecture](https://www.fluentd.org/images/architecture/pluggable.png)"
   ]
  },
  {
   "cell_type": "markdown",
   "metadata": {
    "slideshow": {
     "slide_type": "subslide"
    }
   },
   "source": [
    "## Life of a fluentd event"
   ]
  },
  {
   "cell_type": "markdown",
   "metadata": {
    "cell_style": "split",
    "slideshow": {
     "slide_type": "fragment"
    }
   },
   "source": [
    "### Event Structure\n",
    "\n",
    "- tag: Specifies the origin where an event comes from. It is used for\n",
    "message routing.\n",
    "- time: Specifies the time when an event happens with nanosecond resolution.\n",
    "- record: Specifies the actual log as a JSON object."
   ]
  },
  {
   "cell_type": "markdown",
   "metadata": {
    "cell_style": "split",
    "slideshow": {
     "slide_type": "fragment"
    }
   },
   "source": [
    "![](https://drek4537l1klr.cloudfront.net/wilkins/v-10/Figures/2.1.png)\n",
    "\n",
    "https://livebook.manning.com/book/logging-in-action/chapter-2/v-10/14\n",
    "\n",
    "\n",
    "\n",
    "\n"
   ]
  },
  {
   "cell_type": "markdown",
   "metadata": {
    "cell_style": "split",
    "slideshow": {
     "slide_type": "subslide"
    }
   },
   "source": [
    "### Configuration File\n",
    "The configuration file is the fundamental piece to connect all things together, as it allows to define which Inputs or listeners Fluentd will have and set up common matching rules to route the Event data to a specific Output."
   ]
  },
  {
   "cell_type": "markdown",
   "metadata": {
    "cell_style": "split",
    "slideshow": {
     "slide_type": "subslide"
    }
   },
   "source": [
    "```config\n",
    "<source>\n",
    "  @type http\n",
    "  port 44444\n",
    "  bind 0.0.0.0\n",
    "</source>\n",
    "\n",
    "# accept all log events regardless of tag and write them to the console\n",
    "<match **>\n",
    "    @type stdout\n",
    "</match>\n",
    "```"
   ]
  },
  {
   "cell_type": "markdown",
   "metadata": {},
   "source": [
    "```\n",
    "docker run -p 44444:44444 -v $(pwd)/conf:/fluentd/etc fluent/fluentd:edge-debian -c /fluentd/etc/helloworld.conf\n",
    "curl -X POST -d 'json={\"json\":\"message\"}' http://127.0.0.1:44444/sample.test\n",
    "```"
   ]
  },
  {
   "cell_type": "markdown",
   "metadata": {
    "slideshow": {
     "slide_type": "subslide"
    }
   },
   "source": [
    "### Processing Events\n",
    "When a Setup is defined, the Router Engine contains several predefined rules to apply to different input data. Internally, an Event will to pass through a chain of procedures that may alter its lifecycle."
   ]
  },
  {
   "cell_type": "markdown",
   "metadata": {
    "slideshow": {
     "slide_type": "subslide"
    }
   },
   "source": [
    "## Plugin types"
   ]
  },
  {
   "cell_type": "markdown",
   "metadata": {
    "cell_style": "split",
    "slideshow": {
     "slide_type": "fragment"
    }
   },
   "source": [
    "Fluentd has nine (9) types of plugins:\n",
    "- Input\n",
    "- Parser\n",
    "- Filter\n",
    "- Output\n",
    "- Formatter\n",
    "- Storage\n",
    "- Service Discovery\n",
    "- Buffer\n",
    "- Metrics\n",
    "\n",
    "https://docs.fluentd.org/input"
   ]
  },
  {
   "cell_type": "markdown",
   "metadata": {
    "cell_style": "split",
    "slideshow": {
     "slide_type": "fragment"
    }
   },
   "source": [
    "![](https://ithemes.com/wp-content/uploads/2017/05/what-is-a-plugin.png)"
   ]
  },
  {
   "cell_type": "markdown",
   "metadata": {
    "slideshow": {
     "slide_type": "subslide"
    }
   },
   "source": [
    "## Examples"
   ]
  },
  {
   "cell_type": "code",
   "execution_count": null,
   "metadata": {},
   "outputs": [],
   "source": []
  },
  {
   "cell_type": "markdown",
   "metadata": {
    "slideshow": {
     "slide_type": "slide"
    }
   },
   "source": [
    "# Fluent Bit"
   ]
  },
  {
   "cell_type": "markdown",
   "metadata": {
    "slideshow": {
     "slide_type": "subslide"
    }
   },
   "source": [
    "https://fluentbit.io/"
   ]
  },
  {
   "cell_type": "markdown",
   "metadata": {
    "slideshow": {
     "slide_type": "slide"
    }
   },
   "source": [
    "# Biblio\n",
    "https://www.manning.com/books/logging-in-action"
   ]
  }
 ],
 "metadata": {
  "celltoolbar": "Slideshow",
  "kernelspec": {
   "display_name": "Python 3 (ipykernel)",
   "language": "python",
   "name": "python3"
  },
  "language_info": {
   "codemirror_mode": {
    "name": "ipython",
    "version": 3
   },
   "file_extension": ".py",
   "mimetype": "text/x-python",
   "name": "python",
   "nbconvert_exporter": "python",
   "pygments_lexer": "ipython3",
   "version": "3.8.10"
  },
  "rise": {
   "autolaunch": true,
   "enable_chalkboard": "true",
   "footer": "<div class=\"tap-footer\"> *** Technologies for advanced programming (TAP) - 2022 ***</div>",
   "header": "<div class=\"tap-header\"></div>",
   "scroll": true,
   "theme": "white"
  }
 },
 "nbformat": 4,
 "nbformat_minor": 4
}
